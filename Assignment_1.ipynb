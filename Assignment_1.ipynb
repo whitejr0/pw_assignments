{
  "nbformat": 4,
  "nbformat_minor": 0,
  "metadata": {
    "colab": {
      "provenance": []
    },
    "kernelspec": {
      "name": "python3",
      "display_name": "Python 3"
    },
    "language_info": {
      "name": "python"
    }
  },
  "cells": [
    {
      "cell_type": "code",
      "execution_count": null,
      "metadata": {
        "id": "PQA3Xz6EYc2T"
      },
      "outputs": [],
      "source": [
        "# 1. Write a code to reverse a string.\n",
        "char = input(\"Enter the String: \")\n",
        "rev = char[::-1]\n",
        "print(\"Original String: \",char)\n",
        "print(\"Reverse String: \",rev)"
      ]
    },
    {
      "cell_type": "code",
      "source": [
        "# 2. Write a code to count the number of vowels in a string.\n",
        "vowels = ['a','e','i','o','u','A','E','I','O','U']\n",
        "count = 0\n",
        "char = input(\"Enter the Name: \")\n",
        "for i in range(len(char)):\n",
        "  if char[i] in vowels:\n",
        "    count += 1\n",
        "print(\"Number of vowels in the given string: \", count)"
      ],
      "metadata": {
        "id": "YHChsNW4YqYh",
        "colab": {
          "base_uri": "https://localhost:8080/"
        },
        "outputId": "a051a0e4-2b2d-48be-cf20-08a3015db113"
      },
      "execution_count": 3,
      "outputs": [
        {
          "output_type": "stream",
          "name": "stdout",
          "text": [
            "Enter the Name: SIDDHANT\n",
            "Number of vowels in the given string:  2\n"
          ]
        }
      ]
    },
    {
      "cell_type": "code",
      "source": [
        "# 3. Write a code to check if a given string is a palindrome or not.\n",
        "char = input(\"Enter the string: \")\n",
        "if char == char[::-1]:\n",
        "  print(\"Its Palindrome.\")\n",
        "else:\n",
        "  print(\"Not Palindrome.\")"
      ],
      "metadata": {
        "id": "_lC1MjZpnO5G"
      },
      "execution_count": null,
      "outputs": []
    },
    {
      "cell_type": "code",
      "source": [
        "#4. Write a code to check if two given strings are anagrams of each other.\n",
        "inp1 = input(\"Enter the string1: \")\n",
        "inp2 = input(\"Enter the string2: \")\n",
        "\n",
        "x = [inp1[i] for i in range(0,len(inp1))]\n",
        "x.sort()\n",
        "y = [inp2[i] for i in range(0,len(inp2))]\n",
        "y.sort()\n",
        "\n",
        "if x==y:\n",
        "    print(\"The string are anagrams.\")\n",
        "else:\n",
        "    print(\"The strings aren't anagrams.\")\n"
      ],
      "metadata": {
        "id": "V5KmszlkodR5"
      },
      "execution_count": null,
      "outputs": []
    },
    {
      "cell_type": "code",
      "source": [
        "#5. Write a code to find all occurrences of a given substring within another string.\n",
        "main_string = \"hello world hello\"\n",
        "substring = \"hello\"\n",
        "\n",
        "occurrences = []\n",
        "start = 0\n",
        "while True:\n",
        "    start = main_string.find(substring, start)\n",
        "    if start == -1:\n",
        "        break\n",
        "    occurrences.append(start)\n",
        "    start += 1\n",
        "\n",
        "print(occurrences)"
      ],
      "metadata": {
        "id": "Qm7MXg7qohtH"
      },
      "execution_count": null,
      "outputs": []
    },
    {
      "cell_type": "code",
      "source": [
        "\n",
        "#6 Write a code to perform basic string compression using the counts of repeated characters."
      ],
      "metadata": {
        "id": "qIaDS09jonrZ"
      },
      "execution_count": null,
      "outputs": []
    },
    {
      "cell_type": "code",
      "source": [
        "#7 Write a code to determine if a string has all unique characters.\n",
        "string = input(\"Enter the string: \")\n",
        "encountered = set()\n",
        "\n",
        "for char in string:\n",
        "    if char in encountered:\n",
        "        print(False)\n",
        "    else:\n",
        "        encountered.add(char)"
      ],
      "metadata": {
        "id": "PX9GRJespAaG"
      },
      "execution_count": null,
      "outputs": []
    },
    {
      "cell_type": "code",
      "source": [
        "#8 Write a code to convert a given string to uppercase to lowercase\n",
        "string = input(\"Enter the string: \")\n",
        "print(string.upper())\n",
        "print(string.lower())\n"
      ],
      "metadata": {
        "id": "m6eZhX9JpDLG"
      },
      "execution_count": null,
      "outputs": []
    },
    {
      "cell_type": "code",
      "source": [
        "#9 Write a code to count the number of words in a string.\n",
        "string = input(\"Enter the string: \")\n",
        "count = 0\n",
        "for i in string:\n",
        "    count+=1\n",
        "print(count)\n"
      ],
      "metadata": {
        "id": "zOFTmmWBpFd1"
      },
      "execution_count": null,
      "outputs": []
    },
    {
      "cell_type": "code",
      "source": [
        "#10 Write a code to concatenate two strings without using the + operator.\n",
        "str1 = \"Badasha\"\n",
        "str2 = \"Ki Biwi\"\n",
        "print(str1,str2)\n"
      ],
      "metadata": {
        "id": "lmHR3CQIpIO5"
      },
      "execution_count": null,
      "outputs": []
    },
    {
      "cell_type": "code",
      "source": [
        "#11 Write a code to remove all occurrences of a specific element from a list.\n",
        "tlist = [1,2,3,5,4,1]\n",
        "item = 1\n",
        "\n",
        "rr = [i for i in tlist if i != item]\n",
        "print(rr)"
      ],
      "metadata": {
        "id": "YemzQBFcpMI9"
      },
      "execution_count": null,
      "outputs": []
    },
    {
      "cell_type": "code",
      "source": [
        "#12 Implement a code to find the second largest number in a given list of integers.\n",
        "llist1 = [12,33,55,88,45,90,300]\n",
        "llist2 = []\n",
        "for i in llist1:\n",
        "    if max(llist1) > i:\n",
        "        llist2.append(i)\n",
        "print(max(llist2))"
      ],
      "metadata": {
        "id": "lbdGoPEPpONx"
      },
      "execution_count": null,
      "outputs": []
    },
    {
      "cell_type": "code",
      "source": [
        "#13 Create a code to count the occurrences of each element in a list and return a dictionary with elements as key and their counts as values.\n",
        "list1 = [\"Sun\",\"Moon\",\"Earth\",\"Mars\",\"Moon\",\"Moon\"]\n",
        "dic1 = {}\n",
        "for ele in list1:\n",
        "    if ele in dic1:\n",
        "        dic1[ele] = dic1[ele] + 1\n",
        "    else:\n",
        "        dic1[ele] = 1\n",
        "print(dic1)"
      ],
      "metadata": {
        "id": "4PBk_dccpRUl"
      },
      "execution_count": null,
      "outputs": []
    },
    {
      "cell_type": "code",
      "source": [
        "#14 Write a code to reverse a list in-place without using any built-in reverse functions.\n",
        "lis1 = [1,2,3,4,5,6,7,8]\n",
        "\n",
        "rev1 = []\n",
        "\n",
        "for i in range(len(lis1) -1 , -1, -1):\n",
        "    print(i)\n",
        "    rev1.append(lis1[i])\n",
        "print(rev1)\n"
      ],
      "metadata": {
        "id": "0LVMyo9ppUBU"
      },
      "execution_count": null,
      "outputs": []
    },
    {
      "cell_type": "code",
      "source": [
        "#15 Implement a code to find and remove duplicates from a list while preserving the original order of elements.\n",
        "\n",
        "list1 = [\"Sun\",\"Earth\",\"Moon\",\"Earth\",\"Mars\",\"Moon\",\"Venus\",\"Jupiter\",\"Saturn\"]\n",
        "l1 = []\n",
        "for ele in list1:\n",
        "    if ele not in l1:\n",
        "        l1.append(ele)\n",
        "print(l1)\n"
      ],
      "metadata": {
        "id": "9m_AwVfepWoK"
      },
      "execution_count": null,
      "outputs": []
    },
    {
      "cell_type": "code",
      "source": [
        "#16 Create a code to check if a given list is sorted (either in ascending or descending order) or not.\n",
        "\n",
        "list1 = [5,4,3,2,1]\n",
        "if len(list1) < 2:\n",
        "    print(True)\n",
        "\n",
        "asc = True\n",
        "des = True\n",
        "\n",
        "for i in range(len(list1) - 1):\n",
        "    if list1[i] > list1[i+1]:\n",
        "        asc = False\n",
        "    if list1[i] < list1[i+1]:\n",
        "        des = False\n",
        "print(asc or des)"
      ],
      "metadata": {
        "id": "AKPLf3F2pYqN"
      },
      "execution_count": null,
      "outputs": []
    },
    {
      "cell_type": "code",
      "source": [
        "#17 Write a code to merge two sorted lists into a single sorted list\n",
        "list1 = [5,4,3,2,1]\n",
        "list2 = [3,6,2,0,1,9,4]\n",
        "list3 = []\n",
        "\n",
        "for i in range(len(list1)):\n",
        "    list3.append(list1[i])\n",
        "\n",
        "for j in range(len(list2)):\n",
        "    list3.append(list2[j])\n",
        "\n",
        "list3.sort()\n",
        "print(list3)"
      ],
      "metadata": {
        "id": "BEVgcOYwpZ0P"
      },
      "execution_count": null,
      "outputs": []
    },
    {
      "cell_type": "code",
      "source": [
        "#18 Implement a code to find the intersection of two given lists.\n",
        "list1 = [5,4,3,2,1]\n",
        "list2 = [3,6,2,0,1,9,4]\n",
        "\n",
        "s = set(list1) & set(list2)\n",
        "l = list(s)\n",
        "print(l)\n"
      ],
      "metadata": {
        "id": "oe80cD2mpdq_"
      },
      "execution_count": null,
      "outputs": []
    },
    {
      "cell_type": "code",
      "source": [
        "#19 Create a code to find the union of two lists without duplicates.\n",
        "list1 = [5,4,3,2,1]\n",
        "list2 = [3,6,2,0,1,9,4]\n",
        "\n",
        "s = set(list1) | set (list2)\n",
        "l = list(s)\n",
        "print(l)"
      ],
      "metadata": {
        "id": "Dlj5nmFjpgD1"
      },
      "execution_count": null,
      "outputs": []
    },
    {
      "cell_type": "code",
      "source": [
        "#20 Write a code to shuffle a given list randomly without using any built-in shuffle functions.\n",
        "import random\n",
        "list1 = [1,2,3,4,5]\n",
        "\n",
        "for i in range(len(list1)-1, 0, -1):\n",
        "    j = random.randint(0,i)\n",
        "    print(j)\n",
        "    list1[i], list1[j] = list1[j], list1[i]\n",
        "print(list1)\n",
        "\n"
      ],
      "metadata": {
        "id": "ECaM55zmph-R"
      },
      "execution_count": null,
      "outputs": []
    },
    {
      "cell_type": "code",
      "source": [
        "#21 Write a code that takes two tuples as input and returns a new tuple containing elements that are common to both input tuples.\n",
        "tup1 = (1,4,5,7,3,0)\n",
        "tup2 = (4,9,8,3,4,1,0)\n",
        "tup3 = set(tup1) & set(tup2)\n",
        "print(tuple(tup3))"
      ],
      "metadata": {
        "id": "accfVhVKpmig"
      },
      "execution_count": null,
      "outputs": []
    },
    {
      "cell_type": "code",
      "source": [
        "#22 Create a code that prompts the user to enter two sets of intregers separated by commas. Then, print the intersection of there two sets.\n",
        "\n",
        "input1 = input(\"Enter the first set of integers, separated by commas: \")\n",
        "set1 = set(map(int, input1.split(',')))\n",
        "input2 = input(\"Enter the second set of integers, separated by commas: \")\n",
        "set2 = set(map(int, input2.split(',')))\n",
        "\n",
        "set3 = set1 & set2\n",
        "print(set3)"
      ],
      "metadata": {
        "id": "8Okor3PmpnpQ"
      },
      "execution_count": null,
      "outputs": []
    },
    {
      "cell_type": "code",
      "source": [
        "#23 Write a code to concatenate two tuples. The function should take two tuples as input and return a new tuple containing elements from both inputs tuples.\n",
        "tup1 = input(\"Enter the tuple: \")\n",
        "t1 = tuple(map(int, tup1.split(',')))\n",
        "tup2 = input(\"Enter the tuple: \")\n",
        "t2 = tuple(map(int, tup2.split(',')))\n",
        "print(t1 + t2)"
      ],
      "metadata": {
        "id": "UT3Hn8xWpqww"
      },
      "execution_count": null,
      "outputs": []
    },
    {
      "cell_type": "code",
      "source": [
        "#24 Develop a code that prompts the user to input two sets of string. Then, print the elements that are present in the first set but not in the second set.\n",
        "in1 = input(\"Enter the first set: \")\n",
        "set1 = set(in1.split(','))\n",
        "in2 = input(\"Enter the secound set: \")\n",
        "set2 = set(in2.split(','))\n",
        "\n",
        "diff = set1 - set2\n",
        "print(diff)"
      ],
      "metadata": {
        "id": "R_kfH-nWprlQ"
      },
      "execution_count": null,
      "outputs": []
    },
    {
      "cell_type": "code",
      "source": [
        "#25 Create a code that takes a tuple and two integers as input. The function should return a new tuple containing element from the original tuple within the specified range of indices.\n",
        "in1 = input(\"Enter a Tuple: \")\n",
        "tup = tuple(in1.split(\",\"))\n",
        "st = int(input(\"Enter start index: \"))\n",
        "end = int(input(\"Enter End index: \"))\n",
        "\n",
        "def slice_tuple(tup,st,end):\n",
        "    return tup[st:end]\n",
        "\n",
        "print(slice_tuple(tup, st, end))"
      ],
      "metadata": {
        "id": "gzuBZff6ptsO"
      },
      "execution_count": null,
      "outputs": []
    },
    {
      "cell_type": "code",
      "source": [
        "#26 Write a code that prompts the user to input two sets of characters. Then, print the union of there two sets.\n",
        "in1 = input(\"Enter set1: \")\n",
        "set1 = set(in1.split(\",\"))\n",
        "in2 = input(\"Enter set2: \")\n",
        "set2 = set(in2.split(\",\"))\n",
        "\n",
        "set3 = set1 | set2\n",
        "print(set3)"
      ],
      "metadata": {
        "id": "4n6MGoyapt4c"
      },
      "execution_count": null,
      "outputs": []
    },
    {
      "cell_type": "code",
      "source": [
        "#27 Develop a code that takes a tuple of integers as input. the function should return the maximum and minimum values from the tuple using tuple unpacking.\n",
        "in1 = input(\"Enter tuple1: \")\n",
        "tp1 = tuple(map(int, in1.split(\",\")))\n",
        "\n",
        "def find_min_max(tp1):\n",
        "    max_v = max(tp1)\n",
        "    min_v = min(tp1)\n",
        "    return max_v, min_v\n",
        "\n",
        "print(find_min_max(tp1))"
      ],
      "metadata": {
        "id": "azh1qHz4puan"
      },
      "execution_count": null,
      "outputs": []
    },
    {
      "cell_type": "code",
      "source": [
        "#28 Create a code that defines two sets of integers. Then, print the uinon, intersection, and difference of there two sets.\n",
        "in1 = input(\"Enter set1: \")\n",
        "set1 = set(map(int, in1.split(\",\")))\n",
        "in2 = input(\"Enter set2: \")\n",
        "set2 = set(map(int,in2.split(\",\")))\n",
        "\n",
        "def ui_inter_diff(set1,set2):\n",
        "    uni = set1 | set2\n",
        "    inter = set1 & set2\n",
        "    diff = set1 - set2\n",
        "    return uni, inter, diff\n",
        "\n",
        "print(ui_inter_diff(set1, set2))"
      ],
      "metadata": {
        "id": "doWI1DETpueQ"
      },
      "execution_count": null,
      "outputs": []
    },
    {
      "cell_type": "code",
      "source": [
        "#29 Write a code that takes a tuple and an element as input. The function should return the count of occurrences of the given element in the tuple.\n",
        "in1 = input(\"Enter tuple1: \")\n",
        "tp1 = tuple( in1.split(\",\"))\n",
        "\n",
        "element = input(\"Enter the element: \")\n",
        "\n",
        "def count_occurrence(t, elem):\n",
        "    return t.count(elem)\n",
        "\n",
        "print(count_occurrence(in1, element))"
      ],
      "metadata": {
        "id": "FideAn3Jpuip"
      },
      "execution_count": null,
      "outputs": []
    },
    {
      "cell_type": "code",
      "source": [
        "#30 Develop a code that prompts the user to input two sets of strings. Then , print the symmetric diffrence of there two sets.\n",
        "in1 = input(\"Enter set1: \")\n",
        "set1 = set(in1.split(\",\"))\n",
        "in2 = input(\"Enter set2: \")\n",
        "set2 = set(in2.split(\",\"))\n",
        "\n",
        "\n",
        "diff = set1 - set2\n",
        "print(diff)"
      ],
      "metadata": {
        "id": "4YvTJiSZpuqU"
      },
      "execution_count": null,
      "outputs": []
    },
    {
      "cell_type": "code",
      "source": [
        "#31 Write a code that takes a list of words as input and returns a dictionary where the keys are unique words and the values are the frequencies of thoes words in the input list.\n",
        "input_lst = input(\"Enter a list of words separated by spaces: \")\n",
        "words = input_lst.split()\n",
        "\n",
        "def count_words(word_list):\n",
        "    word_f = {}\n",
        "    for word in word_list:\n",
        "        if word in word_f:\n",
        "            word_f[word] += 1\n",
        "        else:\n",
        "            word_f[word] = 1\n",
        "\n",
        "    return word_f\n",
        "\n",
        "print(count_words(words))"
      ],
      "metadata": {
        "id": "TnkyHTXkpuud"
      },
      "execution_count": null,
      "outputs": []
    },
    {
      "cell_type": "code",
      "source": [
        "#32 Write a code that takes two dictionaries as input and merges them into a single dictionary. If there are common keys, the values should be added together.\n",
        "def merge_dic(dict1, dict2):\n",
        "    md = dict1.copy()\n",
        "\n",
        "    for key, value in dict2.items():\n",
        "        if key in md:\n",
        "            md[key] += value\n",
        "    else:\n",
        "        md[key] = value\n",
        "    return md\n",
        "\n",
        "dict1 = {'a': 1, 'b': 2, 'c': 3}\n",
        "dict2 = {'b': 3, 'c': 4, 'd': 5}\n",
        "\n",
        "print(merge_dic(dict1, dict2))"
      ],
      "metadata": {
        "id": "IV1BdEHfqA6Y"
      },
      "execution_count": null,
      "outputs": []
    },
    {
      "cell_type": "code",
      "source": [
        "#33  Write a code to access a value in a nested dictionary. The function should take the dictionary and a list of keys as input and return the corresponding value. if any of the keys do not exist in the dictionary the function should return None.\n",
        "market = {\"fruits\": {\"apple\": 10, \"orange\": 40, \"strawberry\": 30, \"grapes\": 200},\n",
        "        \"vegetables\": {\"carrot\": 50, \"beans\": 100, \"tomato\": 70}}\n",
        "\n",
        "\n",
        "def nest_values(dictionary, keys):\n",
        "    for key in keys:\n",
        "        if key in dictionary:\n",
        "            dictionary = dictionary[key]\n",
        "        else:\n",
        "            return None\n",
        "    return dictionary\n",
        "\n",
        "\n",
        "keys = input(\"Enter the keys: \")\n",
        "lst1 = list(keys.split(\",\"))\n",
        "print(nest_values(market, lst1))\n"
      ],
      "metadata": {
        "id": "JZTUThOLqBCZ"
      },
      "execution_count": null,
      "outputs": []
    },
    {
      "cell_type": "code",
      "source": [
        "#34 Write a code that takes a dictionary as input and returns a sorted version of it based on the values. You can choose whether to sort in ascending or descending order.\n",
        "input_dict = {\n",
        "    \"apple\": 10,\n",
        "    \"orange\": 40,\n",
        "    \"strawberry\": 30,\n",
        "    \"grapes\": 200\n",
        "}\n",
        "\n",
        "def sort_dict_by_values(dictionary, ascending=True):\n",
        "    sorted_items = sorted(dictionary.items(), key=lambda item: item[1], reverse=not ascending)\n",
        "    return dict(sorted_items)\n",
        "\n",
        "\n",
        "sorted_dict_asc = sort_dict_by_values(input_dict, ascending=True)\n",
        "print(\"Ascending:\", sorted_dict_asc)\n",
        "\n",
        "sorted_dict_desc = sort_dict_by_values(input_dict, ascending=False)\n",
        "print(\"Descending:\", sorted_dict_desc)"
      ],
      "metadata": {
        "id": "TqP2awdpqBM_"
      },
      "execution_count": null,
      "outputs": []
    },
    {
      "cell_type": "code",
      "source": [
        "#35 Write a code that inverts a dictionary, swapping keys and values. Ensure the the inverted dictionary correctly handles cases ehere multiple keys have the same values by storing the keys as a list in the invertes dictionary."
      ],
      "metadata": {
        "id": "itsVDvl5qIEH"
      },
      "execution_count": null,
      "outputs": []
    }
  ]
}