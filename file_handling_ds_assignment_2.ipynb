{
  "metadata": {
    "kernelspec": {
      "name": "python",
      "display_name": "Python (Pyodide)",
      "language": "python"
    },
    "language_info": {
      "codemirror_mode": {
        "name": "python",
        "version": 3
      },
      "file_extension": ".py",
      "mimetype": "text/x-python",
      "name": "python",
      "nbconvert_exporter": "python",
      "pygments_lexer": "ipython3",
      "version": "3.8"
    }
  },
  "nbformat_minor": 4,
  "nbformat": 4,
  "cells": [
    {
      "cell_type": "markdown",
      "source": "#### 1. Write a code to read the content of a file in python",
      "metadata": {}
    },
    {
      "cell_type": "code",
      "source": "with open('housing.txt', 'r') as file:\n    content = file.read()\n\nprint(content)\n",
      "metadata": {
        "trusted": true
      },
      "outputs": [
        {
          "name": "stdout",
          "text": "Hello!!! this file is for Assignment perpose\n",
          "output_type": "stream"
        }
      ],
      "execution_count": 2
    },
    {
      "cell_type": "markdown",
      "source": "#### 2. Write a code to write to a file in Python.",
      "metadata": {}
    },
    {
      "cell_type": "code",
      "source": "with open ('housing.txt', 'w') as fiSle:\n    content = file.write('Hey, i am back!! \\n')",
      "metadata": {
        "trusted": true
      },
      "outputs": [],
      "execution_count": 6
    },
    {
      "cell_type": "markdown",
      "source": "#### 3.Write a code to append to a file in Python",
      "metadata": {}
    },
    {
      "cell_type": "code",
      "source": "with open('housing.txt', 'a') as file:\n    file.write('\\nThis my 3rd or 4th line....\\n')\n\nprint('Text has been appended to file')",
      "metadata": {
        "trusted": true
      },
      "outputs": [
        {
          "name": "stdout",
          "text": "Text has been appended to file\n",
          "output_type": "stream"
        }
      ],
      "execution_count": 15
    },
    {
      "cell_type": "markdown",
      "source": "#### 4.Write a code to read a binary file in python.",
      "metadata": {}
    },
    {
      "cell_type": "code",
      "source": "data = b'This is binary data.'\n\nwith open('binary_file.bin', 'wb') as file:\n    file.write(data)\n\nwith open('binary_file.bin', 'rb') as file:\n    binary_data = file.read()\n\nprint(\"Binary data read from the file:\")\nprint(binary_data)",
      "metadata": {
        "trusted": true
      },
      "outputs": [
        {
          "name": "stdout",
          "text": "Binary data read from the file:\nb'This is binary data.'\n",
          "output_type": "stream"
        }
      ],
      "execution_count": 14
    },
    {
      "cell_type": "markdown",
      "source": "#### 5.What happens if we don't use 'with' keyword with 'open' in python?",
      "metadata": {}
    },
    {
      "cell_type": "raw",
      "source": ">> If you don’t use the with keyword when opening files in Python, you need to manually close the file after you're done with it.\n\nfile = open('your_file.txt', 'a')\nfile.write(\"Appending some text.\\n\")\nfile.close()\n\n>> Using the with keyword ensures that the file is automatically closed after the block is exited, even if an exception occurs.",
      "metadata": {}
    },
    {
      "cell_type": "markdown",
      "source": "#### 6. Explain the concept of buffering in file handling and how it helps in improving read and write operations.",
      "metadata": {}
    },
    {
      "cell_type": "raw",
      "source": "Buffering is a used in file handling to temporarily store data in memory before reading from or writing to a file o disk.This allows for more efficient I/O operations by minimizing the number of direct accesses to the disk, which can be slow process.\n\n1. Fewer I/O Operations\n2. Faster Disk Access\n3. Reduced System Calls\n\nbuffering = 0: No buffering (for binary files only). Data is read/written directly to/from the disk. This is also known as unbuffered mode.\n\nbuffering = 1: Line buffering (for text files). Data is buffered until a newline character (\\n) is encountered.\n\nbuffering > 1: Full buffering, where the specified buffer_size determines how much data is read/written in a single operation.",
      "metadata": {}
    },
    {
      "cell_type": "markdown",
      "source": "#### 7. Describe the steps involved in implementing buffered file handing in a programming language of your choice.",
      "metadata": {}
    },
    {
      "cell_type": "markdown",
      "source": "##### Steps to implement Buffered file handling\n\n##### 1. Open the file with buffering:\n    In Python, the open() function has a buffering parameter that allows you to specify the buffer size.\nwith open('example.txt', mode='r', buffering=buffer_size)\n\nbuffering=0: No buffering \nbuffering=1: Line buffering \nbuffering>1: Full buffering with a buffersize of buffer_size bytes.\n\n##### 2. Write Data to File:\n   When writing to buffered file, data is stored in memory until the buffer is full or a newline is encountered. Once the buffer is full or flushed manually, the data is written to disk.\n\nbuffer_size=1024    # 1KB buffer size\nwith open('output.txt', 'w', buffering=buffer_size) as file:\n    file.write(\"This is some text that will be buffered.\\n\")\n    file.write(\"This line is also buffered.\\n\")\n\n- Data is first written to buffer.\n- When buffer reaches its specified size, it is written to disk.\n- The buffer can be explicitly flushed before it is full using file.flush().\n\n##### 3. Read Data from the File:\n   When reading from a file, buffering allows chunks of data to be loaded into memory, reducing the number of disk accesses. This is more efficient than reading byte-by-byte or line-by-line directly from the disk.\n\nbuffer_size = 2048  # 2 KB buffer size\nwith open('input.txt', 'r', buffering=buffer_size) as file:\n    content = file.read()  # Reads data from the buffer into memory\n    print(content)\n\n- When the file is opened, data is read from the disk in chunks of buffer_size and loaded into the buffer.\n- The file.read() method retrieves data from the buffer instead of directly from the disk, which is faster.\n\n##### 4. Flush the buffer(if needed):\nBuffering is efficient because the program waits until the buffer is full before writing to the disk. However, there are cases where you may need to flush the buffer before it’s full:\n\n- You want to ensure that all data is written to disk immediately (e.g., before closing the file).\n- You need to sync with other processes that might read the file while it’s still being written.\n\nwith open('output.txt', 'w', buffering=1024) as file:\n    file.write(\"Writing some text into the file.\\n\")\n    file.flush()  # Forces the buffer to be written to the disk\n\n##### 5.Close the File:\n   When the file is closed using file.close() or automatically through the with statement in Python, the buffer is automatically flushed, and all remaining data in the buffer is written to the disk.\n\nwith open('output.txt', 'w', buffering=1024) as file:\n    file.write(\"Some final data.\\n\")\n    # File is automatically closed and buffer is flushed here\n\nIt’s important to close files to ensure the buffer is flushed and resources are freed.\n\n##### 6. Handle Exceptions (Optional but Recommended):\nBuffered file handling might encounter exceptions (like IOError or OSError) when reading from or writing to a file. Using the try-except block ensures that the program can handle such issues gracefully\n\nbuffer_size = 1024  # 1 KB buffer size\ntry:\n    with open('output.txt', 'w', buffering=buffer_size) as file:\n        file.write(\"Buffered data being written.\\n\")\n        # Manually flush if needed\n        file.flush()\nexcept IOError as e:\n    print(f\"Error occurred: {e}\")\n\n##### 7. Optimize Buffer Size:\nChoosing an optimal buffer size is important for balancing performance and memory usage. A larger buffer can reduce the number of I/O operations but consumes more memory, while a smaller buffer leads to more frequent disk accesses.\n\nThe optimal buffer size can vary depending on:\n- The system’s hardware (disk speed, memory size).\n- The type of file (e.g., text vs binary files).\n- The size of the data being processed.\n\nCommonly used buffer sizes are 1 KB (1024 bytes), 4 KB (4096 bytes), or system-defined defaults. You can experiment to find the best buffer size for your use case.",
      "metadata": {}
    },
    {
      "cell_type": "markdown",
      "source": "#### 8. Write a python function to read a text file using buffered reading and return its contents.",
      "metadata": {}
    },
    {
      "cell_type": "code",
      "source": "def buffer_reading(file_path, buffer_size=4096):\n\n    content = []\n\n    try:\n        with open(file_path, 'r', buffering=buffer_size) as file:\n            while True:\n                chunk = file.read(buffer_size) #Read in chunks\n                if not chunk:\n                    break\n                content.append(chunk)\n        return ''.join(content) # Join the list into a single string\n\n    except FileNotFoundError:\n        return f\"File {file_path} not found\"\n    except IOError as e:\n        return f\"An I/O error occurred: {e}\"\n\nfile_contents = buffer_reading('housing.txt')\nprint(file_contents)\n",
      "metadata": {
        "trusted": true
      },
      "outputs": [],
      "execution_count": null
    },
    {
      "cell_type": "markdown",
      "source": "#### 9. What are the advantages of using buffered reading over direct file reading in python?",
      "metadata": {}
    },
    {
      "cell_type": "markdown",
      "source": "1. Reads larger blocks of data into memory (buffer) and accesses data from memory rather than directly from the disk.\n2. Reduces the number of disk I/O operations, improving performance.\n3. Fewer system calls, reducing overhead.\n4. Minimizes disk thrashing by grouping data reads into chunks.\n5. Uses a manageable amount of memory by reading data in chunks.",
      "metadata": {}
    },
    {
      "cell_type": "markdown",
      "source": "#### 10. Write a Python code snippent to append content to a file using buffered writing.",
      "metadata": {}
    },
    {
      "cell_type": "code",
      "source": "def append_content(file_path,content,buffer_size=4096):\n    try:\n        with open(file_path, 'a', buffering=buffer_size ) as file:\n            file.write(content)\n            file.flush()\n            \n    except FileNotFoundError:\n        return f\"File {file_path} not found\"\n    except IOError as e:\n        return f\"An I/O error occurred: {e}\"   \n\n\nappend_content('housing.txt', '\\nFor sugarcane, the best nitrogen fertilizer after plantation depends on several factors, including soil type, pH, availability of water, and environmental conditions. Typically, nitrogen fertilizers that release nitrogen gradually are preferred for sugarcane because it is a long-duration crop.')         \n            ",
      "metadata": {
        "trusted": true
      },
      "outputs": [],
      "execution_count": 24
    },
    {
      "cell_type": "markdown",
      "source": "#### 11. Write a Python function that demonstrates the use of close() method on a file.",
      "metadata": {}
    },
    {
      "cell_type": "code",
      "source": "def write_and_close_file(file_path, content):\n    file = open(file_path, 'w')\n\n    try:\n        file.write(content)\n        print(f\"Content written to {file_path}.\")\n        \n    except IOError as e:\n        print(f\"An error occurred while writing to the file: {e}\")\n        \n    finally:\n        file.close()\n        print(f\"File {file_path} closed\")\n\nwrite_and_close_file('housing.txt', 'This is some sample content\\n')",
      "metadata": {
        "trusted": true
      },
      "outputs": [
        {
          "name": "stdout",
          "text": "Content written to housing.txt.\nFile housing.txt closed\n",
          "output_type": "stream"
        }
      ],
      "execution_count": 28
    },
    {
      "cell_type": "markdown",
      "source": "#### 12.Create a python function to showcase the detach() method on a file object.",
      "metadata": {}
    },
    {
      "cell_type": "code",
      "source": "# The detach() method is used in Python's file handling when dealing with buffered binary streams. \n# This method is available for BufferedReader and BufferedWriter objects (in io module). \n# It detaches the underlying raw stream from the buffer. \n# Once detached, the buffer can no longer be used, and the raw stream is returned.\n\nimport io\n\ndef detach_exp(file_path):\n    with open(file_path,'rb') as file:\n        buffered_reader = io.BufferedReader(file)\n        print('Buuffered Reader is used. Now detaching....')\n\n        raw_file = buffered_reader.detach()\n        \n\n        print(\"The BufferedReader has been detached.\")\n        print(\"Now working directly with the raw file object.\")\n\n        raw_data = raw_file.read(10000)\n        print(f\"Raw data: {raw_data}\")\n\ndetach_exp('housing.txt')",
      "metadata": {
        "trusted": true
      },
      "outputs": [],
      "execution_count": null
    },
    {
      "cell_type": "markdown",
      "source": "#### 13.Write a Python function to demonstrate the use of the seek() method to change the file position.",
      "metadata": {}
    },
    {
      "cell_type": "code",
      "source": "# The seek() method in Python is used to change the current file position.\n# This is useful when you want to move to a specific location within a file \n# (for reading or writing) without reading through the file sequentially\n\ndef seek_method(file_path):\n    with open(file_path, 'r') as file:\n        print('Reading the first 10 characters: ')\n        # Read the first 10 char\n        content = file.read(25)\n        print(content)\n\n        # Move the file pointer to the beginning of the file\n        file.seek(20)\n        print(\"\\nAfter seeking to the beginning:\\n\")\n        content = file.read(10)\n        print(content)\n\n\n        \nseek_method('housing.txt')\n    ",
      "metadata": {
        "trusted": true
      },
      "outputs": [
        {
          "name": "stdout",
          "text": "Reading the first 10 characters: \nThis is some sample conte\n\nAfter seeking to the beginning:\n\ncontent\nS\n\n",
          "output_type": "stream"
        }
      ],
      "execution_count": 38
    },
    {
      "cell_type": "markdown",
      "source": "#### Create a python function to return the file description(integer number) of a file using the fileno() method.",
      "metadata": {}
    },
    {
      "cell_type": "code",
      "source": "# The fileno() method in Python returns the file descriptor, which is an integer representing an open file. \n# File descriptors are unique to the process and allow lower-level operations to interact directly with \n# the file through the operating system.\n\ndef get_file_descriptor(file_path):\n    with open(file_path, 'r') as file:\n        file_descriptor = file.fileno()\n        print(file_descriptor)\n        return file_descriptor\n\nfile_descriptor = get_file_descriptor('housing.txt')\nprint(f\"The file descriptor is: {file_descriptor}\")",
      "metadata": {
        "trusted": true
      },
      "outputs": [
        {
          "name": "stdout",
          "text": "4\nThe file descriptor is: 4\n",
          "output_type": "stream"
        }
      ],
      "execution_count": 43
    },
    {
      "cell_type": "markdown",
      "source": "#### 15. Write a python function to return the current position of the file's object using the tell() method.\n",
      "metadata": {}
    },
    {
      "cell_type": "code",
      "source": "# The tell() method in Python returns the current position of the file pointer within an open file. \n# This position is measured in bytes from the beginning of the file. \n# You can use this method to track where you are while reading or writing to a file.\n\ndef currnt_postion(path_file):\n    with open(path_file, 'r') as file:\n        file.read(100)\n        file_tell = file.tell()\n        print(file_tell)\n\ncurrnt_postion('housing.txt')",
      "metadata": {
        "trusted": true
      },
      "outputs": [
        {
          "name": "stdout",
          "text": "100\n",
          "output_type": "stream"
        }
      ],
      "execution_count": 5
    },
    {
      "cell_type": "markdown",
      "source": "#### 16. Create a python program that logs a message to a file using the logging module.",
      "metadata": {}
    },
    {
      "cell_type": "code",
      "source": "# The logging module provides a flexible framework for emitting log messages from Python programs. \n# Below is a simple Python program that logs messages to a file using this module.\n\nimport logging\n\nlogging.basicConfig(filename='app.log', level=logging.INFO, format='%(asctime)s - %(levelname)s - %(message)s')\n\nlogging.info('This is an informational message logged to the file.')\nlogging.error('This is an error message.')\nlogging.warning('This is a warning message.')\n",
      "metadata": {
        "trusted": true
      },
      "outputs": [],
      "execution_count": 7
    },
    {
      "cell_type": "markdown",
      "source": "#### 17. Explain the importance of logging levels in Python's logging module.",
      "metadata": {}
    },
    {
      "cell_type": "markdown",
      "source": "Logging levels in Python’s logging module are crucial for controlling the severity and importance of log messages. Each log message is assigned a level, helping developers filter and manage logs effectively. There are five standard logging levels, ranked from lowest to highest severity:\n\nDEBUG: Used for detailed diagnostic information, primarily for developers during debugging. It logs everything happening in the program.\n\nINFO: Represents general information about the program’s execution, such as successful operations.\n\nWARNING: Indicates potential issues that aren't errors but might require attention. It helps track possible problems before they escalate.\n\nERROR: Signifies errors that prevent part of the program from functioning correctly, typically used for catching and logging exceptions.\n\nCRITICAL: The most severe level, indicating a critical failure, such as system crashes or data corruption, requiring immediate attention.\n\nUsing these levels ensures that only relevant logs are displayed based on the context. In production, for example, you might only want to log ERROR and CRITICAL messages, while during development, you might use DEBUG or INFO for detailed tracking. This structured approach helps in efficient troubleshooting and maintaining a clean, manageable log file.",
      "metadata": {}
    },
    {
      "cell_type": "markdown",
      "source": "#### 18. Create a Python program that uses the debugger to find the value of a variable inside a loop.",
      "metadata": {}
    },
    {
      "cell_type": "code",
      "source": "# You can use the pdb (Python Debugger) module to debug Python programs and inspect variable values during runtime.\n# Here's a simple program that uses the pdb debugger to step through a loop and inspect the value of a variable inside the loop:\n\nimport pdb\n\ndef loop_with_debugger():\n    numbers = [1, 2, 3, 4, 5]\n    total = 0\n    \n    for num in numbers:\n        pdb.set_trace()  # Set a breakpoint here\n        total += num\n        print(f\"Current number: {num}\")\n        print(f\"Running total: {total}\")\n    \n    print(f\"Final total: {total}\")\n\n# Run the function\nloop_with_debugger()\n",
      "metadata": {
        "trusted": true
      },
      "outputs": [],
      "execution_count": null
    },
    {
      "cell_type": "markdown",
      "source": "#### 19. Create a python program that demonstartes setting breakpoints and inspecting variables using the debugger.\n",
      "metadata": {}
    },
    {
      "cell_type": "code",
      "source": "import pdb\n\ndef factorial(n):\n    \"\"\"Calculate the factorial of a given number.\"\"\"\n    if n < 0:\n        raise ValueError(\"Factorial is not defined for negative numbers\")\n    if n == 0 or n == 1:\n        return 1\n    \n    result = 1\n    for i in range(2, n + 1):\n        pdb.set_trace()  # Set a breakpoint here to inspect the variables\n        result *= i\n        print(f\"DEBUG: Current i={i}, Partial result={result}\")  # Debug output\n\n    return result\n\n# Example usage\ntry:\n    num = 5\n    print(f\"The factorial of {num} is: {factorial(num)}\")\nexcept ValueError as e:\n    print(e)\n",
      "metadata": {
        "trusted": true
      },
      "outputs": [],
      "execution_count": null
    },
    {
      "cell_type": "markdown",
      "source": "#### 20. Create a Python program that uses the debugger to trace a recursive function.",
      "metadata": {}
    },
    {
      "cell_type": "markdown",
      "source": "#### 21. Write a try-except block to handle a ZeroDivisionError.",
      "metadata": {}
    },
    {
      "cell_type": "code",
      "source": "try:\n    num = 10\n    den = 0\n    res = num / den\n    print(f\"The result is {res}\")\nexcept ZeroDivisionError:\n    print(\"Error: You cannot divide by Zero\")\n    ",
      "metadata": {
        "trusted": true
      },
      "outputs": [
        {
          "name": "stdout",
          "text": "Error: You cannot divide by Zero\n",
          "output_type": "stream"
        }
      ],
      "execution_count": 1
    },
    {
      "cell_type": "markdown",
      "source": "#### 22. How does the else block work with try-except ?",
      "metadata": {}
    },
    {
      "cell_type": "code",
      "source": "# An else, block can be used with a try-except construct to specify code that should be executed only if no exceptions are raised in the try block.\n# The else block is useful for placing code that should run when everything in the try block works as expected (i.e, no exceptions occur). \n\n# 1. The code inside the else block runs only if no exceptions are raised in the try block.\n# 2. If an excepton occurs, the else block is skipped,  and the program jumps to the except block.\n# 3. It is commonly used when you want to execute some additional step only after successfully completing the try block.\n\n\ntry:\n    numerator = 10\n    denominator = 2\n    result = numerator / denominator\n    \nexcept ZeroDivisionError:\n    print(\"Error: Division by zero is not allowed.\")\n    \nelse:\n    print(f\"Division successful, the result is {result}\")\n",
      "metadata": {
        "trusted": true
      },
      "outputs": [
        {
          "name": "stdout",
          "text": "Division successful, the result is 5.0\n",
          "output_type": "stream"
        }
      ],
      "execution_count": 2
    },
    {
      "cell_type": "markdown",
      "source": "#### 23. Implement a try-except-else block to open and read a file.",
      "metadata": {}
    },
    {
      "cell_type": "code",
      "source": "try:\n    with open('housing.txt', 'r') as file:\n        data = file.read()\nexcept e:\n    print(e)\nelse:\n    print(data)",
      "metadata": {
        "trusted": true
      },
      "outputs": [
        {
          "name": "stdout",
          "text": "\n\n\n\nThis is some sample content\nS\n\n\n\nrucial nutrient because it promotes vegetative growth, which is important for healthy leaves and root development. Bananas are heavy feeders and require a steady supply of nitrogen throughout their growth cycle. The choice of nitrogen fertilizer for bananas depends on soil conditions, climate, and water availability, but some general recommendations can be made based on the fertilizers from your table.\n\nBest Nitrogen Fertilizers for Bananas:\n\nAmmonium Nitrate (33.5% Nitrogen):\n\nPros: Provides nitrogen in both ammonium and nitrate forms, which are immediately available to the plant and promote both vegetative growth and root uptake.\nCons: Mildly acidic but less volatile compared to urea.\nRecommendation: Ideal for bananas, especially where quick uptake of nitrogen is needed. Ammonium nitrate is commonly recommended for fruit crops like bananas because it provides nitrogen steadily.\n\nAmmonium Sulfate (21% Nitrogen):\n\nPros: Contains both nitrogen and sulfur, which is beneficial for bananas since sulfur also supports growth and fruit quality.\nCons: Can acidify the soil significantly over time, so it is best used in soils that are neutral to alkaline or where liming is part of the soil management plan.\nRecommendation: Use ammonium sulfate in areas where the soil pH is neutral or high, and where sulfur might be lacking. It is also good for quick nitrogen availability but should be applied with caution in acidic soils.\n\nUrea (46% Nitrogen):\n\nPros: High nitrogen content and cost-effective.\nCons: Urea is prone to volatilization, especially in warm, dry climates, leading to nitrogen loss if not incorporated into the soil or watered in after application.\nRecommendation: Urea is widely used for bananas due to its high nitrogen content, but it should be applied during rainy periods or with sufficient irrigation to minimize nitrogen loss.\n\nNitrogen Solutions (19-49% Nitrogen):\n\nPros: These are liquid fertilizers combining urea and ammonium nitrate, making them versatile for both soil and foliar applications.\nCons: They can vary in acidity, but they provide an immediate and sustained release of nitrogen.\nRecommendation: Excellent for use in fertigation systems in banana plantations, as they provide a balanced and continuous nitrogen supply.\n\nCalcium Nitrate (15% Nitrogen):\n\nPros: Provides both nitrogen and calcium, the latter being important for improving fruit quality (size, firmness, and shelf life). Calcium also helps mitigate issues like blossom-end rot.\nCons: It is basic, so it won’t acidify the soil, making it a good choice for maintaining a balanced pH.\nRecommendation: Calcium nitrate is a good choice for bananas, especially in areas where calcium deficiency or acidic soils are a concern. It helps both vegetative and fruit development.\n\nSummary Recommendation:\n\nAmmonium Nitrate and Ammonium Sulfate are generally good for banana cultivation, especially where soil pH and sulfur availability are well-managed.\nCalcium Nitrate can be particularly beneficial where soil calcium is low or pH needs to be raised, as it provides calcium along with nitrogen, supporting both growth and fruit quality.\nUrea can also be used but requires careful management to avoid nitrogen loss, especially in dry conditions or with poor irrigation.\nFor bananas, a combination of nitrogen sources can often provide the best results, ensuring both immediate and long-term availability of nitrogen while addressing soil nutrient imbalances. Regular soil testing is important to fine-tune the fertilizer strategy for optimal growth and yield.For sugarcane, the best nitrogen fertilizer after plantation depends on several factors, including soil type, pH, availability of water, and environmental conditions. Typically, nitrogen fertilizers that release nitrogen gradually are preferred for sugarcane because it is a long-duration crop.For sugarcane, the best nitrogen fertilizer after plantation depends on several factors, including soil type, pH, availability of water, and environmental conditions. Typically, nitrogen fertilizers that release nitrogen gradually are preferred for sugarcane because it is a long-duration crop.\nFor sugarcane, the best nitrogen fertilizer after plantation depends on several factors, including soil type, pH, availability of water, and environmental conditions. Typically, nitrogen fertilizers that release nitrogen gradually are preferred for sugarcane because it is a long-duration crop.S\n",
          "output_type": "stream"
        }
      ],
      "execution_count": 5
    },
    {
      "cell_type": "markdown",
      "source": "#### 24. What is the purpose of the finally block in exception handling.",
      "metadata": {}
    },
    {
      "cell_type": "code",
      "source": "# 1. The finally block always executes, even if an exception is raised or caught. \n# 2. If an exception is raised and caught by the except block, the finally block will still execute afterward.\n# 3. If no exception occurs, the finally block will still execute after the else block \n\n\n#try:\n    # Code that might raise an exception\n#except SomeException:\n    # Code to handle the exception\n#else:\n    # Code to run if no exceptions occur\n#finally:\n    # Code that always runs, no matter what\n",
      "metadata": {
        "trusted": true
      },
      "outputs": [],
      "execution_count": 8
    },
    {
      "cell_type": "markdown",
      "source": "#### 25. Write a try-except-finally block to handle a ValueError.",
      "metadata": {}
    },
    {
      "cell_type": "code",
      "source": "try:\n    # Attempt to convert a string to an integer (which might raise a ValueError)\n    number = input(\"Enter a number: \")\n    print(f\"You entered the number: {number}\")\n\nexcept ValueError:\n    # This block will handle the ValueError if the input is not a valid integer\n    print(\"Error: That's not a valid number. Please enter a valid integer.\")\n\nfinally:\n    # This block will always execute, regardless of whether an exception occurred or not\n    print(\"Program execution has finished.\")",
      "metadata": {
        "trusted": true
      },
      "outputs": [
        {
          "name": "stdout",
          "text": "You entered the number: <PyodideFuture pending cb=[WebLoop._decrement_in_progress()]>\nProgram execution has finished.\n",
          "output_type": "stream"
        },
        {
          "output_type": "stream",
          "name": "stdin",
          "text": "Enter a number:  -10000\n"
        }
      ],
      "execution_count": 3
    },
    {
      "cell_type": "markdown",
      "source": "#### 26. How multiple except blocks work in Python?",
      "metadata": {}
    },
    {
      "cell_type": "markdown",
      "source": "1. try block: Attempts to convert user input to integers and perform division.\n\n2. except ValueError: Catches a ValueError if the input is not a valid integer (e.g., if the user enters \"abc\").\n \n3. except ZeroDivisionError: Catches a ZeroDivisionError if the user enters 0 as the denominator.\n \n6. except Exception: Catches any other exceptions that might occur. This is a \"catch-all\" handler for any exceptions not handled by the specific except blocks.\n   \n7. finally block: Always executes, regardless of whether an exception was raised or not.",
      "metadata": {}
    },
    {
      "cell_type": "markdown",
      "source": "#### 27. What is a custom exception in Python?",
      "metadata": {}
    },
    {
      "cell_type": "markdown",
      "source": "custom exception is a user-defined error type that allows you to handle specific situations in a more controlled and meaningful way. Instead of relying solely on built-in exceptions (like ValueError, TypeError, etc.), you can create your own exceptions to describe particular error scenarios in your code more precisely.\n\n1. Specificity: It allows you to clearly communicate what went wrong.\n2. Readability: Code becomes more readable by specifying exceptions related to specific issues.\n3. Control: Helps in adding specific error handling mechanisms and custom messages.\n",
      "metadata": {}
    },
    {
      "cell_type": "markdown",
      "source": "#### 28. Create a custom exception class with a message.",
      "metadata": {}
    },
    {
      "cell_type": "code",
      "source": "class MyCustomError(Exception):\n    def __init__(self, message):\n        self.message = message\n        super().__init__(self.message)\n\ntry:\n    raise MyCustomError(\"This is a custom error message!\")\nexcept MyCustomError as e:\n    print(e)",
      "metadata": {
        "trusted": true
      },
      "outputs": [
        {
          "name": "stdout",
          "text": "This is a custom error message!\n",
          "output_type": "stream"
        }
      ],
      "execution_count": 3
    },
    {
      "cell_type": "markdown",
      "source": "#### 29. Write a code to raise a custom exception in Python. ",
      "metadata": {}
    },
    {
      "cell_type": "code",
      "source": "class InsufficientBalanceError(Exception):\n    def __init__(self, message='Balance is too low for this transaction.'):\n        self.message = message\n        super().__init__(self.message)\n\ndef withdraw(balance, amount):\n    if amount > balance:\n        raise InsufficientBalanceError(\"You attempted to withdraw more than your available balance.\")\n    balance -= amount\n    return balance\n\ntry: \n    balance = 500\n    amount_to_withdraw = 600\n    new_balance = withdraw(balance, amount_to_withdraw)\n    print(f\"Transaction successful! New balance: {new_balance}\")\nexcept InsufficientBalanceError as e:\n    print(f\"Error: {e}\")\n    ",
      "metadata": {
        "trusted": true
      },
      "outputs": [
        {
          "name": "stdout",
          "text": "Error: You attempted to withdraw more than your available balance.\n",
          "output_type": "stream"
        }
      ],
      "execution_count": 13
    },
    {
      "cell_type": "markdown",
      "source": "#### 30. Write a function that raises a custom exception when a value is negative. ",
      "metadata": {}
    },
    {
      "cell_type": "code",
      "source": "# Define a custom exception\nclass NegativeValue(Exception):\n    def __init__(self, value, message=\"Value cannot be negative\"):\n        self.value = value\n        self.message = message\n        super().__init__(f\"{self.message}: {self.value}\")\n\n# Define a function that raises the exception if the value is negative\ndef check_positive_value(value):\n    if value < 0:\n        raise(NegativeValue(value))\n    return value\n\n# Example Usage\ntry:\n    check_positive_value(-5)\nexcept NegativeValue as e:\n    print(e)",
      "metadata": {
        "trusted": true
      },
      "outputs": [
        {
          "name": "stdout",
          "text": "Value cannot be negative: -5\n",
          "output_type": "stream"
        }
      ],
      "execution_count": 17
    },
    {
      "cell_type": "markdown",
      "source": "#### 31. What is the role of try, except, else and finally in handling exceptions.",
      "metadata": {}
    },
    {
      "cell_type": "markdown",
      "source": "1. try : The try block contain code that may potentially raise an exception. If an exception occurs within this block, it immediately stop executing and jumps to the corresponding except block.\n   \n2. except: The except block is where you handle exceptions. When an exception occurs in the try block, Python checks for an except block with a matching exception type to handle it.\n\n3. else: The else block runs if no exceptions are raised in the try block. This can be useful for code that should execute only if everything in the try block succeeds.\n\n4. finally: The finally block contains code that should execute no matter what, regardless of whether an exception was raised or not. This is often used for cleanup actions, like closing files or releasing resources.",
      "metadata": {}
    },
    {
      "cell_type": "markdown",
      "source": "#### 32. How can custom exceptions improve code readability and maintainability?",
      "metadata": {}
    },
    {
      "cell_type": "markdown",
      "source": "1. Improved Readability: Custom exceptions allow you to define specific error types that clearly indicate what went wrong. For example, defining exceptions like NegativeValueError or InsufficientFundsError conveys more information than generic exceptions such as ValueError or RuntimeError.\n\n2. Focused Exception Handling: By defining custom exceptions, you can catch specific types of errors and handle them in isolation. This reduces the risk of unintentionally catching unrelated exceptions, making the error handling more precise and focused.\n\n3. Enhanced Code Maintainability: Custom exceptions centralize error handling. If the application’s behavior needs to change for certain errors, you can modify the handling logic in one place without changing all usages of that error.\n\n4. Easier Debugging and Testing: Specific exceptions make it easier to debug because you know exactly what went wrong, without additional context needed. Custom exceptions provide unique, identifiable error types, so when they occur, you can pinpoint the problem source more quickly.",
      "metadata": {}
    },
    {
      "cell_type": "markdown",
      "source": "#### 33. What is multithreading?  ",
      "metadata": {}
    },
    {
      "cell_type": "markdown",
      "source": "Multithreading is a programming technique that allows a program to run multiple threads concurrently, enabling tasks to be performed simultaneously within a single process. Each thread operates as an independent sequence of execution, sharing the same memory space but running different parts of the code or handling different tasks. This can enhance the performance of programs, especially those that need to perform I/O-bound tasks or manage multiple user requests concurrently.",
      "metadata": {}
    },
    {
      "cell_type": "markdown",
      "source": "#### 34. Create a thread in python.",
      "metadata": {}
    },
    {
      "cell_type": "code",
      "source": "import threading\nimport time\nimport random\n\n# Function to simulate downloading data\ndef download_data(url):\n    print(f\"Starting download from {url}\")\n    # Simulate variable download time\n    download_time = random.randint(1, 5)  # Random time between 1 and 5 seconds\n    time.sleep(download_time)\n    print(f\"Finished downloading from {url} in {download_time} seconds\")\n\n# List of URLs to download from\nurls = [\n    \"http://example.com/file1\",\n    \"http://example.com/file2\",\n    \"http://example.com/file3\",\n    \"http://example.com/file4\",\n    \"http://example.com/file5\"\n]\n\n# Create a list to hold the thread objects\nthreads = []\n\n# Create and start threads\nfor url in urls:\n    thread = threading.Thread(target=download_data, args=(url,))\n    threads.append(thread)\n    thread.start()\n\n# Wait for all threads to complete\nfor thread in threads:\n    thread.join()\n\nprint(\"All downloads completed.\")\n",
      "metadata": {
        "trusted": true
      },
      "outputs": [],
      "execution_count": null
    },
    {
      "cell_type": "markdown",
      "source": "#### 35. What is the Global Interpreter Lock(GIL) in python?",
      "metadata": {}
    },
    {
      "cell_type": "markdown",
      "source": "The Global Interpreter Lock (GIL) is a mutex (mutual exclusion lock) used in the standard implementation of Python, known as CPython, to protect access to Python objects and prevent multiple threads from executing Python bytecode simultaneously. This design choice affects how multithreading works in Python and has significant implications for performance and concurrency.",
      "metadata": {}
    },
    {
      "cell_type": "markdown",
      "source": "#### 36. Implement a simple multithreading example in Python.",
      "metadata": {}
    },
    {
      "cell_type": "code",
      "source": "import threading\nimport time\n\n# Function that simulates a task\ndef task(name, duration):\n    print(f\"Task {name} is starting.\")\n    time.sleep(duration)  # Simulate work by sleeping\n    print(f\"Task {name} has finished after {duration} seconds.\")\n\n# Create a list to hold the thread objects\nthreads = []\n\n# Create and start multiple threads\nfor i in range(5):\n    # Each task will sleep for a different amount of time\n    thread = threading.Thread(target=task, args=(f\"Thread-{i+1}\", i + 1))\n    threads.append(thread)\n    thread.start()  # Start the thread\n\n# Wait for all threads to complete\nfor thread in threads:\n    thread.join()  # Ensure the main thread waits for all to finish\n\nprint(\"All tasks have completed.\")\n",
      "metadata": {
        "trusted": true
      },
      "outputs": [],
      "execution_count": null
    },
    {
      "cell_type": "markdown",
      "source": "#### 37. What is the purpose of the 'join()' method in threading?",
      "metadata": {}
    },
    {
      "cell_type": "markdown",
      "source": "The .join() method in Python is used with threading to ensure that one thread waits for another thread to complete its execution before continuing. It is a way to synchronize threads and is particularly useful in scenarios where you need to wait for a thread to finish before proceeding with further actions in your main program\n\n1. When you call thread.join(), the thread that calls this method will block (pause execution) until the thread you are joining has finished executing. This means that any code following the .join() call will not execute until the specified thread is done.\n2. You typically use .join() after starting a thread with .start() to ensure that the main program or other threads can safely assume that the joined thread has completed its work.\n3. join(timeout=None): You can optionally specify a timeout value (in seconds) to limit how long the calling thread waits for the thread to complete. If the specified timeout expires, the calling thread will continue executing regardless of whether the joined thread has finished or not.",
      "metadata": {}
    },
    {
      "cell_type": "code",
      "source": "import threading\nimport time\n\n# Function that simulates some work\ndef worker(name):\n    print(f\"Worker {name} is starting.\")\n    time.sleep(2)  # Simulate a task taking 2 seconds\n    print(f\"Worker {name} has finished.\")\n\n# Create threads\nthread1 = threading.Thread(target=worker, args=(\"A\",))\nthread2 = threading.Thread(target=worker, args=(\"B\",))\n\n# Start threads\nthread1.start()\nthread2.start()\n\n# Wait for both threads to complete\nthread1.join()  # Wait for thread1 to finish\nthread2.join()  # Wait for thread2 to finish\n\nprint(\"Both workers have completed.\")\n",
      "metadata": {
        "trusted": true
      },
      "outputs": [],
      "execution_count": null
    },
    {
      "cell_type": "markdown",
      "source": "#### 38. Describe a scenario where multithreading would be beneficial in Python.",
      "metadata": {}
    },
    {
      "cell_type": "markdown",
      "source": "Multithreading can be particularly beneficial in scenarios involving I/O-bound tasks, where the program spends a significant amount of time waiting for external resources, such as network responses, file I/O, or database queries.\n\nScenario: Web Scraping\n\nUse Case: Suppose you want to scrape data from multiple web pages to gather information, such as product prices, user reviews, or news articles. This task involves making HTTP requests to fetch the HTML content of different URLs, which is typically an I/O-bound operation.\n\n1. Concurrent Requests:\n   - When scraping multiple web pages sequentially, the program would wait for each HTTP request to complete before moving on to the next one. This waiting time can add up significantly if the network latency is high or if the server takes a while to respond.\n   - Using multithreading, you can send multiple requests concurrently. This way, while one thread is waiting for a response from a server, other threads can continue making their requests, significantly reducing the total scraping time\n\n2. Improved Performance:\n    - By utilizing multiple threads to handle I/O-bound operations like network requests, you can achieve a higher throughput. Instead of waiting for each request sequentially, threads can overlap their waiting times, making better use of the available time.\n\n3. Responsiveness:\n    - If the scraping task is part of a larger application (e.g., a GUI application), using multithreading can help keep the user interface responsive. The scraping can be performed in the background, allowing the user to interact with the application without freezing the interface.\n  ",
      "metadata": {}
    },
    {
      "cell_type": "code",
      "source": "import threading\nimport requests\nimport time\n\n# Function to scrape a webpage\ndef scrape_page(url):\n    print(f\"Scraping {url}...\")\n    response = requests.get(url)\n    if response.status_code == 200:\n        print(f\"Successfully scraped {url}: {len(response.text)} characters.\")\n    else:\n        print(f\"Failed to scrape {url}: {response.status_code}\")\n\n# List of URLs to scrape\nurls = [\n    \"http://example.com/page1\",\n    \"http://example.com/page2\",\n    \"http://example.com/page3\",\n    \"http://example.com/page4\",\n    \"http://example.com/page5\"\n]\n\n# Create a list to hold the thread objects\nthreads = []\n\n# Create and start threads for each URL\nfor url in urls:\n    thread = threading.Thread(target=scrape_page, args=(url,))\n    threads.append(thread)\n    thread.start()\n\n# Wait for all threads to complete\nfor thread in threads:\n    thread.join()\n\nprint(\"All pages have been scraped.\")\n",
      "metadata": {
        "trusted": true
      },
      "outputs": [],
      "execution_count": null
    },
    {
      "cell_type": "markdown",
      "source": "#### 39. What is multiprocessing in Python? ",
      "metadata": {}
    },
    {
      "cell_type": "markdown",
      "source": "Multiprocessing in Python refers to a package that allows the creation and management of separate processes. Unlike multithreading, which uses threads to execute code concurrently within a single process, multiprocessing uses multiple processes, each with its own Python interpreter and memory space. This approach can effectively bypass the limitations of the Global Interpreter Lock (GIL) in CPython and enables true parallel execution of CPU-bound tasks",
      "metadata": {}
    },
    {
      "cell_type": "markdown",
      "source": "#### 40. How is multiprocessing differrnt from multithreading in python?",
      "metadata": {}
    },
    {
      "cell_type": "markdown",
      "source": "1. Multiprocessing\n    - Definition: Multiprocessing involves using multiple processes, each with its own Python interpreter and memory space. This allows true parallelism since each process can be executed on a separate CPU core.\n    - Use Case: Ideal for CPU-bound tasks (e.g., calculations, data processing) where Python’s Global Interpreter Lock (GIL) would otherwise limit performance.\n    - Memory: Each process has its own memory space, so they don’t share memory. Communication between processes requires mechanisms like pipes or queues.\n    - Overhead: Starting a new process has more overhead than starting a new thread because it involves creating a new Python interpreter instance and memory space.\n\n\n      \n2. Multithreading\n   - Definition: Multithreading allows multiple threads to run in the same process, sharing the same memory space. However, due to Python’s GIL, only one thread can execute Python bytecode at a time.\n   - Use Case: Suitable for I/O-bound tasks (e.g., file I/O, network requests) where the thread spends time waiting for external resources rather than needing to execute Python code continuously.\n   - Memory: Threads share the same memory space, making inter-thread communication simpler but also riskier in terms of data integrity.\n   - Overhead: Starting a new thread has less overhead than starting a new process, as it doesn’t require initializing a new Python interpreter.\n\n",
      "metadata": {}
    },
    {
      "cell_type": "markdown",
      "source": "#### 41. Create a process using the multiproccesing module.",
      "metadata": {}
    },
    {
      "cell_type": "raw",
      "source": "we’ll create a function that prints numbers, and then we’ll run this function in a separate process.",
      "metadata": {}
    },
    {
      "cell_type": "code",
      "source": "import multiprocessing\nimport time\n\n# Define a function to run in a separate process\ndef print_numbers():\n    for i in range(5):\n        print(f\"Number: {i}\")\n        time.sleep(1)  # Sleep for 1 second to simulate work\n\nif __name__ == \"__main__\":\n    # Create a new process\n    process = multiprocessing.Process(target=print_numbers)\n\n    # Start the process\n    process.start()\n\n    # Wait for the process to complete\n    process.join()\n\n    print(\"Process completed.\")\n",
      "metadata": {
        "trusted": true
      },
      "outputs": [],
      "execution_count": null
    },
    {
      "cell_type": "markdown",
      "source": "#### 42. Explain the concept of Pool in  the multiprocessing module.",
      "metadata": {}
    },
    {
      "cell_type": "markdown",
      "source": "The Pool class in the multiprocessing module provides a way to parallelize execution by creating a pool of worker processes. This is especially useful when you need to perform the same task multiple times with different inputs, as it allows you to distribute the work across multiple processes efficiently.\n\n1. Process Pooling:\n\n   - Instead of creating and managing individual processes manually, the Pool class manages a pool (a fixed number) of worker processes.\n   - You can specify the number of processes to use, and Pool will automatically distribute tasks among these processes.\n   - By reusing processes in the pool, it reduces the overhead of repeatedly starting and stopping processes.\n\n2. Methods of Pool:\n\n   - map(): This is similar to the built-in map() function, but it allows you to apply a function concurrently across multiple inputs in different processes.\n   - apply(): It allows you to apply a function to a single input in one of the pool’s processes.\n   - apply_async(): Similar to apply(), but it performs the function asynchronously, returning a AsyncResult object.\n   - map_async(): Similar to map(), but it’s asynchronous, returning a AsyncResult object.",
      "metadata": {}
    },
    {
      "cell_type": "code",
      "source": "from multiprocessing import Pool\n\ndef square(num):\n    return num*num\n\nif __name__ == \"__main__\":\n    with Pool(processes=4) as pool:\n        numbers = [1,2,3,4,5]\n\n        result = pool.map(square, numbers)\n    print(\"Square numbers: \", result)",
      "metadata": {
        "trusted": true
      },
      "outputs": [],
      "execution_count": null
    },
    {
      "cell_type": "markdown",
      "source": "When to Use Pool\n   - Task repetition: When the same function needs to be applied to multiple inputs independently (e.g., batch processing or parallel computations).\n   - CPU-bound tasks: When the work is computationally intensive and can benefit from true parallelism.\n   - Efficient resource management: By reusing worker processes, Pool optimizes resource usage compared to creating separate processes for each task.",
      "metadata": {}
    },
    {
      "cell_type": "markdown",
      "source": "#### 43. Explain inter-process communication in multiprocessing ?",
      "metadata": {}
    },
    {
      "cell_type": "markdown",
      "source": "In Python's multiprocessing module, Inter-Process Communication (IPC) enables communication between different processes, which is necessary because each process in multiprocessing has its own memory space. To facilitate communication and data sharing between processes, Python’s multiprocessing module offers several IPC mechanisms:",
      "metadata": {}
    },
    {
      "cell_type": "markdown",
      "source": "1. Pipes\n   - Definition: Pipes provide a two-way communication channel between two processes.\n   - Structure: A pipe has two ends (Pipe() returns two connection objects). Each end of the pipe can be used for sending or receiving messages.\n   - Usage: Pipes are ideal for small amounts of data and point-to-point communication.\n\n\nOutput: The parent process receives \"Hello from the child process!\" from the child process.",
      "metadata": {}
    },
    {
      "cell_type": "code",
      "source": "from multiprocessing import Process, Pipe\n\ndef worker(conn):\n    conn.send(\"Hello from the child process!\")\n    conn.close()\n\nif __name__ == \"__main__\":\n    parent_conn, child_conn = Pipe()\n    p = Process(target=worker, args=(child_conn,))\n    p.start()\n    \n    print(parent_conn.recv())  # Receives data from the child process\n    p.join()\n",
      "metadata": {
        "trusted": true
      },
      "outputs": [],
      "execution_count": null
    },
    {
      "cell_type": "markdown",
      "source": "2. Queues\n   - Definition: A Queue provides a thread- and process-safe FIFO (first-in, first-out) structure for exchanging data between processes.\n   - Structure: Multiple processes can put data into or retrieve data from the queue, making it suitable for producer-consumer problems.\n   - Usage: Queues are preferred when you need to exchange larger data or require a shared message buffer between multiple processes.\n\n\nOutput: The parent process receives \"Hello from the child process!\" from the queue.",
      "metadata": {}
    },
    {
      "cell_type": "code",
      "source": "from multiprocessing import Process, Queue\n\ndef worker(queue):\n    queue.put(\"Hello from the child process!\")\n\nif __name__ == \"__main__\":\n    q = Queue()\n    p = Process(target=worker, args=(q,))\n    p.start()\n    \n    print(q.get())  # Gets data from the queue\n    p.join()\n",
      "metadata": {
        "trusted": true
      },
      "outputs": [],
      "execution_count": null
    },
    {
      "cell_type": "markdown",
      "source": "3. Shared Memory (Value and Array)\n   - Definition: Shared memory objects allow multiple processes to share data directly by storing it in shared memory spaces.\n   - Structure: The Value object allows sharing of a single value, while Array can share arrays of data (like lists).\n   - Usage: Shared memory is ideal for when you need to share simple data types or arrays and want to avoid the overhead of passing data through pipes or queues.\n\n\nShared number: 1\nShared array: [1, 2, 3, 4, 5]\n",
      "metadata": {}
    },
    {
      "cell_type": "code",
      "source": "from multiprocessing import Process, Value, Array\n\ndef worker(shared_num, shared_arr):\n    shared_num.value += 1\n    for i in range(len(shared_arr)):\n        shared_arr[i] += 1\n\nif __name__ == \"__main__\":\n    num = Value('i', 0)   # Shared integer\n    arr = Array('i', range(5))  # Shared array of integers\n    \n    p = Process(target=worker, args=(num, arr))\n    p.start()\n    p.join()\n    \n    print(\"Shared number:\", num.value)\n    print(\"Shared array:\", list(arr))\n",
      "metadata": {
        "trusted": true
      },
      "outputs": [],
      "execution_count": null
    },
    {
      "cell_type": "markdown",
      "source": "Managers\n   - Definition: Managers provide a higher-level approach to sharing data between processes. multiprocessing.Manager() creates a server process that holds shared data structures like lists, dictionaries, and other Python objects.\n  - Usage: Managers are useful for more complex shared data structures and objects, such as dictionaries or lists.\n\nOutput: The parent process retrieves \"Hello from the child process!\" from the shared dictionary.",
      "metadata": {}
    },
    {
      "cell_type": "code",
      "source": "from multiprocessing import Process, Manager\n\ndef worker(shared_dict):\n    shared_dict[\"message\"] = \"Hello from the child process!\"\n\nif __name__ == \"__main__\":\n    with Manager() as manager:\n        shared_dict = manager.dict()\n        \n        p = Process(target=worker, args=(shared_dict,))\n        p.start()\n        p.join()\n        \n        print(shared_dict[\"message\"])\n",
      "metadata": {
        "trusted": true
      },
      "outputs": [],
      "execution_count": null
    },
    {
      "cell_type": "markdown",
      "source": "Each IPC method has its unique use case:\n\n- Pipes are simple and fast for two-process communication.\n- Queues are good for larger data or multiple-producer-consumer situations.\n- Shared Memory (Value and Array) is optimal for sharing simple data types or arrays.\n- Managers enable shared, high-level data structures like lists and dictionaries for more complex data sharing needs.",
      "metadata": {}
    },
    {
      "cell_type": "code",
      "source": "",
      "metadata": {
        "trusted": true
      },
      "outputs": [],
      "execution_count": null
    }
  ]
}