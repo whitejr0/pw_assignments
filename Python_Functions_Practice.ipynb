{
  "nbformat": 4,
  "nbformat_minor": 0,
  "metadata": {
    "colab": {
      "provenance": []
    },
    "kernelspec": {
      "name": "python3",
      "display_name": "Python 3"
    },
    "language_info": {
      "name": "python"
    }
  },
  "cells": [
    {
      "cell_type": "markdown",
      "source": [
        "#### 1.Write a Python function check the number is prime or not?"
      ],
      "metadata": {
        "id": "PoT3Ns6bzMHX"
      }
    },
    {
      "cell_type": "code",
      "execution_count": null,
      "metadata": {
        "id": "iibYzGGtzH4C"
      },
      "outputs": [],
      "source": []
    },
    {
      "cell_type": "markdown",
      "source": [
        "#### 2.Write a Python function string is palindrome or not?"
      ],
      "metadata": {
        "id": "oAoEH4GYzQ3S"
      }
    },
    {
      "cell_type": "code",
      "source": [],
      "metadata": {
        "id": "SodMRdGNzRJw"
      },
      "execution_count": null,
      "outputs": []
    },
    {
      "cell_type": "markdown",
      "source": [
        "#### 3. Write a Python function Print 7 Pascal's triangle."
      ],
      "metadata": {
        "id": "17MlAlemzftA"
      }
    },
    {
      "cell_type": "code",
      "source": [],
      "metadata": {
        "id": "346plyxtzf6k"
      },
      "execution_count": null,
      "outputs": []
    },
    {
      "cell_type": "markdown",
      "source": [
        "4. #### 5.Write a Python function to calculate the harmonic mean\n",
        "\n",
        "HM = n / [1/x1 + 1/x2 + 1/x3 + ... + 1/xn]\n",
        "\n",
        "Here, the total number of observations is divided by the sum of reciprocals of all observations."
      ],
      "metadata": {
        "id": "V_xfOEQvzlP-"
      }
    },
    {
      "cell_type": "code",
      "source": [],
      "metadata": {
        "id": "G3Xm_Wfvz0Tf"
      },
      "execution_count": null,
      "outputs": []
    },
    {
      "cell_type": "markdown",
      "source": [
        "#### Types of arguments\n",
        "\n",
        "\n",
        "    1. Required arguments\n",
        "    2. Keyword arguments\n",
        "    3. Default arguments\n",
        "    4. Variable-length arguments"
      ],
      "metadata": {
        "id": "An-bG3Ia0Dwn"
      }
    },
    {
      "cell_type": "markdown",
      "source": [
        "#### 1. Required arguments: (the function calculate returns the sum of two arguments a and b )"
      ],
      "metadata": {
        "id": "QaWwxJgD0ITP"
      }
    },
    {
      "cell_type": "code",
      "source": [],
      "metadata": {
        "id": "DMU81ynX0EDx"
      },
      "execution_count": null,
      "outputs": []
    },
    {
      "cell_type": "markdown",
      "source": [
        "#### 2.Keyword arguments:(The function simple_interest(p, t, r) is called with the keyword arguments)\n",
        "\n",
        " P = (100 × S.I.)/(R × T)"
      ],
      "metadata": {
        "id": "ssQeyLoE0KPK"
      }
    },
    {
      "cell_type": "code",
      "source": [],
      "metadata": {
        "id": "QGsoeae00Kko"
      },
      "execution_count": null,
      "outputs": []
    },
    {
      "cell_type": "markdown",
      "source": [
        "#### 3. Default arguments: (the function calculate returns the multiplication of 4 arguments a, b ,c and d. Variable c and d will have default arguments of 45 and 10)"
      ],
      "metadata": {
        "id": "aPe4hgEy0igE"
      }
    },
    {
      "cell_type": "code",
      "source": [],
      "metadata": {
        "id": "q9bngT0_0vHa"
      },
      "execution_count": null,
      "outputs": []
    },
    {
      "cell_type": "markdown",
      "source": [],
      "metadata": {
        "id": "IJXOzdIV0vyG"
      }
    }
  ]
}